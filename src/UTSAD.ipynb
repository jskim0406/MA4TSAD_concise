{
 "cells": [
  {
   "cell_type": "markdown",
   "id": "94a80949-0361-40db-8d94-e3a04c05ed58",
   "metadata": {},
   "source": [
    "### import"
   ]
  },
  {
   "cell_type": "code",
   "execution_count": 1,
   "id": "412cde03-e854-4af9-8c76-1da87a92041f",
   "metadata": {},
   "outputs": [
    {
     "name": "stdout",
     "output_type": "stream",
     "text": [
      "[artifacts]\n",
      "location = asia-northeast3\n",
      "repository = product-specialist\n",
      "[core]\n",
      "account = js.kim@hd-hyundai.com\n",
      "disable_usage_reporting = True\n",
      "project = hd-gen-ai-proc-391223\n",
      "\n",
      "Your active configuration is: [default]\n"
     ]
    }
   ],
   "source": [
    "# !gcloud auth login\n",
    "# !gcloud auth application-default login\n",
    "!gcloud config list"
   ]
  },
  {
   "cell_type": "code",
   "execution_count": 2,
   "id": "0e467f58-ac18-409b-ad2d-eb987b8e9d82",
   "metadata": {},
   "outputs": [
    {
     "ename": "ModuleNotFoundError",
     "evalue": "No module named 'dotenv'",
     "output_type": "error",
     "traceback": [
      "\u001b[31m---------------------------------------------------------------------------\u001b[39m",
      "\u001b[31mModuleNotFoundError\u001b[39m                       Traceback (most recent call last)",
      "\u001b[36mCell\u001b[39m\u001b[36m \u001b[39m\u001b[32mIn[2]\u001b[39m\u001b[32m, line 4\u001b[39m\n\u001b[32m      2\u001b[39m \u001b[38;5;28;01mfrom\u001b[39;00m\u001b[38;5;250m \u001b[39m\u001b[34;01mpathlib\u001b[39;00m\u001b[38;5;250m \u001b[39m\u001b[38;5;28;01mimport\u001b[39;00m Path\n\u001b[32m      3\u001b[39m \u001b[38;5;28;01mfrom\u001b[39;00m\u001b[38;5;250m \u001b[39m\u001b[34;01mtyping\u001b[39;00m\u001b[38;5;250m \u001b[39m\u001b[38;5;28;01mimport\u001b[39;00m List, Dict, Any, Annotated, Optional\n\u001b[32m----> \u001b[39m\u001b[32m4\u001b[39m \u001b[38;5;28;01mfrom\u001b[39;00m\u001b[38;5;250m \u001b[39m\u001b[34;01mdotenv\u001b[39;00m\u001b[38;5;250m \u001b[39m\u001b[38;5;28;01mimport\u001b[39;00m load_dotenv, find_dotenv\n\u001b[32m      6\u001b[39m \u001b[38;5;28;01mfrom\u001b[39;00m\u001b[38;5;250m \u001b[39m\u001b[34;01mtyping_extensions\u001b[39;00m\u001b[38;5;250m \u001b[39m\u001b[38;5;28;01mimport\u001b[39;00m TypedDict\n\u001b[32m      7\u001b[39m \u001b[38;5;28;01mfrom\u001b[39;00m\u001b[38;5;250m \u001b[39m\u001b[34;01mlangchain_google_vertexai\u001b[39;00m\u001b[38;5;250m \u001b[39m\u001b[38;5;28;01mimport\u001b[39;00m ChatVertexAI\n",
      "\u001b[31mModuleNotFoundError\u001b[39m: No module named 'dotenv'"
     ]
    }
   ],
   "source": [
    "import os\n",
    "from pathlib import Path\n",
    "from typing import List, Dict, Any, Annotated, Optional\n",
    "from dotenv import load_dotenv, find_dotenv\n",
    "\n",
    "from typing_extensions import TypedDict\n",
    "from langchain_google_vertexai import ChatVertexAI\n",
    "\n",
    "# --- 1. 환경 설정 및 인증 정보 로드 ---\n",
    "# root 경로의 .env 파일 load\n",
    "# dotenv_path = Path(__file__).resolve().parent.parent.parent / '.env'\n",
    "# load_dotenv(dotenv_path)  # .env 파일에서 환경 변수 로드\n",
    "load_dotenv(find_dotenv())\n",
    "\n",
    "# LangSmith 환경 변수 설정\n",
    "os.environ[\"LANGSMITH_TRACING\"] = os.getenv(\"LANGSMITH_TRACING\", \"false\")\n",
    "os.environ[\"LANGSMITH_API_KEY\"] = os.getenv(\"LANGSMITH_API_KEY\", \"\")\n",
    "os.environ[\"LANGCHAIN_PROJECT\"] = os.getenv(\"LANGCHAIN_PROJECT\", \"tsad-fed\")\n",
    "\n",
    "# Google Cloud 설정\n",
    "PROJECT_ID = os.getenv(\"GOOGLE_CLOUD_PROJECT\", \"hd-gen-ai-proc-391223\")\n",
    "LOCATION = os.getenv(\"GOOGLE_CLOUD_REGION\", \"us-central1\")\n",
    "MODEL_NAME_G = os.getenv(\"GOOGLE_GEN_MODEL\", \"gemini-2.0-flash-001\")"
   ]
  },
  {
   "cell_type": "code",
   "execution_count": 12,
   "id": "30be26bc-4985-4d3d-b7e4-030471e242e7",
   "metadata": {},
   "outputs": [
    {
     "name": "stdout",
     "output_type": "stream",
     "text": [
      "hd-gen-ai-proc-391223\n"
     ]
    }
   ],
   "source": [
    "print(PROJECT_ID)"
   ]
  },
  {
   "cell_type": "markdown",
   "id": "5c650307-00be-4c7a-86a9-d3905ae9643f",
   "metadata": {},
   "source": [
    "### What to do.. ASIS prompt 부터 다시 살펴보기."
   ]
  },
  {
   "cell_type": "markdown",
   "id": "e0a613ab-a81e-456f-934a-6a016be79fb6",
   "metadata": {},
   "source": [
    "```python\n",
    "response, raw_response, usage = get_gpt_response(args, prompt_res)\n",
    "```\n",
    "\n",
    "- `prompt_res`\n",
    "```markdown\n",
    "## Instructions\n",
    "Determine if there are any anomalies in the provided AIOPS flow data sequence.\n",
    "\n",
    "## Following Rules:\n",
    "1. A data point is considered an anomaly if it is part of a sequence of at least one consecutive anomalous points or continues to plummet or surge abruptly. \n",
    "2. A data point is considered an anomaly if it is identified as a continuous low/high value anomaly if it remains below/above a predefined normal threshold for a prolonged duration, deviating from the anticipated norm.  \n",
    "3. Given that the vast majority of data points are expected to be '''no anomaly''', Anomalies are exceedingly rare and should only be identified with absolute certainty.\n",
    "4. Normal data may exhibit volatility, which should not be mistaken for anomalies. \n",
    "5. Mislabeling normal data as an anomaly can lead to catastrophic failures. Exercise extreme caution. False positives are unacceptable.\n",
    "6. '''If do not have high percent confidence that data is an anomaly, do not flag it as an anomaly.'''\n",
    "7. '''The output of anomaly intervals needs to be accurately located and should not be excessively long. '''\n",
    "8. The number of abnormal intervals within a detection range can not exceed 3.\n",
    "9. anomaly_type should be one of the following:\n",
    "  - **PersistentLevelShiftUp**\n",
    "    - The data shifts to a higher value and maintains that level consistently, '''do not return to the original baseline.''' like `1 2 1 2 1 2 *500* *480* *510* *500* *500*`\n",
    "  - **PersistentLevelShiftDown**\n",
    "    - The data shifts to a lower value and maintains that level consistently, '''do not return to the original baseline.''' like `1 2 1 2 *-100* *-102* *-104* *-110* *-110*`\n",
    "  - **TransientLevelShiftUp**\n",
    "    - The data temporarily shifts to a higher value and then returning to the original baseline, '''the anomaly maintains for at least 5 data points.''' like `1 2 1 2 1 2 *500* *500* *499* *510* *500* 1 2 1 2`\n",
    "  - **TransientLevelShiftDown**\n",
    "    - The data temporarily shifts to a lower value and then returning to the original baseline, '''the anomaly maintains for at least 5 data points.''' like `1 2 1 2 *-100* *-102* *-104* *-110* *-100* 1 2 1 2`\n",
    "  - **SingleSpike**\n",
    "    - A brief, sharp rise in data value followed by an immediate return to the baseline. like `1 2 1 2 1 2 *200* *500* 1 2`\n",
    "  - **SingleDip**\n",
    "    - A brief, sharp drop in data value followed by an immediate return to the baseline. like `1 2 1 2 *-500* *-200* 1 2 1 2`\n",
    "  - **MultipleSpikes**\n",
    "    - '''Several''' brief, sharp rises in data value, each followed by a return to the baseline. like `1 2 *500* 3 2 *510* *200* 1 2 *480* 1 2`\n",
    "  - **MultipleDips**\n",
    "    - '''Several''' brief, sharp drops in data value, each followed by a return to the baseline. like `1 2 *-100* 3 2 *-110* *-200* 1 2 *-120* 1 2`\n",
    "10. alarm_level should be one of the following:\n",
    "  - **Urgent/Error**\n",
    "    - This category is for values that represent a severe risk, potentially causing immediate damage or harm across all event types whether increases, decreases, spikes, dips, or multiple occurrences.\n",
    "  - **Important**\n",
    "    - Allocated for moderate value changes (both increases and decreases) that could escalate to future problems or system stress but are not immediately hazardous. This also covers upward transient level shifts that concern system longevity and potential failure indications from downward shifts.\n",
    "  - **Warning**\n",
    "    - Used for noticeable deviations from the norm that are not yet critical but merit close monitoring. This includes single spikes and dips that are moderate in nature, as well as multiple non-critical spikes and level shifts that are significant but not yet dangerous.\n",
    "11. The briefExplanation must comprise a explicit three-step analysis '''results''' utilizing precise data (do not only repeat the rule):\n",
    "  - Step 1: Assess the overall trend to ascertain if it aligns with expected patterns, thereby identifying any overarching anomalies. \n",
    "  - Step 2: Determine if there is any local data segment with any continuous low or high values compared to the normal data sequence.\n",
    "  - Step 3: Reassess the identified points to confirm their anomalous nature, given the rarity of true anomalies.\n",
    "12. Provide responses in a strict JSON format suitable for direct parsing, without any additional textual commentary.\n",
    "\n",
    "## Response Format\n",
    "{\n",
    "  \"briefExplanation\": {\"step1_global\": analysis reason, \"step2_local\": analysis reason, \"step3_reassess\": analysis reason},\n",
    "  \"is_anomaly\": false/true,\n",
    "  \"anomalies\": []/[index1, index2, index3, ...],\n",
    "  \"reason_for_anomaly_type\": \"no\"/\"reason for anomaly type\",\n",
    "  \"anomaly_type\": \"no\"/\"classification of main anomaly\",(only one)\n",
    "  \"reason_for_alarm_level\": \"no\"/\"reason for alarm level\",\n",
    "  \"alarm_level\": \"no\"/\"Urgent/Error\"/\"Important\"/\"Warning\",(only one)\n",
    "}\n",
    "\n",
    "## Data\n",
    "Please analyze the latest data with the highest level of diligence and caution:\n",
    "- Historical normal data sequence: `850,516,727,674,550,712,702,470,241,406,114,706,533,692,105,786,-1,1042,549,999,955,788,934,714,756,716,710,704,846,791,380,419,472,931,549,388,641,256,337,450,724,491,791,711,689,499,736,438,734,799,678,409,616,570,955,691,727,896,908,862,-55,406,914,882,748,970,568,747,793,691,738,522,622,593,725,993,625,898,699,1020,797,874,1042,299,752,881,525,741,710,696,546,883,827,568,683,655,669,553,711,575,262,520,178,559,4,731,924,505,729,952,622,836,629,733,704,750,618,582,448,658,575,571,570,720,329,819,698,135,811,768,544,449,987,679,548,558,584,528,715,604,518,511,656,536,561,528,899,942,484,1042,772,735,748,956,939,682,747,753,810,814,991,663,1007,726,537,519,560,666,611,174,765,297,1032,876,1037,752,720,833,830,573,580,616,876,820,800,693,779,645,779,393,392,1006,976,839,866,643,660,881,597,689,809,744,845,1007,540,499,821,742,583,746,563,713,907,1023,882,976,713,999,1025,666,927,687,588,822,787,621,800,760,962,767,1019,850,884,724,946,718,784,942,743,774,1027,834,712,714,805,713,594,1037,715,823,797,728,1000,700,872,610,18,1006,792,1038,1042,763,975,723,566,658,974,761,643,577,552,604,652,773,658,730,796,944,335,641,641,1033,879,778,748,709,1003,650,660,753,757,703,696,723,530,517,555,908,685,297,1042,784,975,984,1018,1019,964,1024,709,780,1032,695,513,540,740,559,792,954,615,741,802,841,808,942,549,869,815,846,770,724,775,674,845,1021,768,901,684,686,581,788,735,751,571,147,942,990,841,736,743,620,1002,864,827,763,687,826,667,941,672,596,657,726,662,794,942,953,942,835,847,1023,1005,689,648,688,614,683,657,708,918,423,663,648,869,510,947,991,779,889,1042,784,946,713,571,702,714,808,731,589,730,1022`\n",
    "\n",
    "- Historical anomaly data sequence(*XXX* is anomaly point), `sequence 1: 924,882,916,804,891,894,925,910,884,778,*144*,512,811,764,636,734,668,415,*272*,711,*294*,472,878,769,860,808,849,888,836,894,915,881,800,559,473,684,773,741,685,764,802\n",
    "sequence 2: 975,838,924,882,916,804,891,894,925,910,884,778,*144*,512,811,764,636,734,668,415,*272*,711,*294*,472,878,769,860,808,849,888,836,894,915,881,800,559,473,684,773,741,685\n",
    "`\n",
    "- The latest `400` data points for evaluation: `1 753\n",
    "2 703\n",
    "3 500\n",
    "4 1028\n",
    "5 554\n",
    "6 1041\n",
    "7 603\n",
    "\n",
    "  ...\n",
    "\n",
    "399 647\n",
    "400 781\n",
    "```\n",
    "\n",
    "- 아래 부분이 핵심. 그 윗 부분은 모두 instruction 및 output format 지정\n",
    "    - 그 중에서도 inference 데이터는 `cur_data` 혹은 prompt에서는 `data`\n",
    "    - `anomaly_data`도 참고 용으로 사용 가능.\n",
    "    - `normal_data`도 마찬가지.\n",
    "    - 우선 3가지 데이터 모두 활용해도 되지만, 우선은 `cur_data`(400개 데이터 포인트, 벡터)를 먼저 활용하자.\n",
    "\n",
    "```\n",
    "## Data\n",
    "Please analyze the latest data with the highest level of diligence and caution:\n",
    "- Historical normal data sequence: `{normal_data}`\n",
    "- Historical anomaly data sequence(*XXX* is anomaly point), `{anomaly_data}`\n",
    "- The latest `{data_len}` data points for evaluation: `{data}`\n",
    "```"
   ]
  },
  {
   "cell_type": "markdown",
   "id": "5b8868b7-86e7-496f-95dd-0f436800a181",
   "metadata": {},
   "source": [
    "### 시작\n",
    "\n",
    "#### 판별 대상 데이터 샘플 분리\n",
    "- 시작은 `data.value.tolist()`\n",
    "    - `cur_data`의 원본 벡터 리스트\n",
    "    - 이상치 탐지 대상 inference data\n"
   ]
  },
  {
   "cell_type": "code",
   "execution_count": 13,
   "id": "a22b1604-7911-47c3-b19e-de8406093cd2",
   "metadata": {},
   "outputs": [
    {
     "name": "stdout",
     "output_type": "stream",
     "text": [
      "['753', '703', '500', '1028', '554', '1041', '603', '676', '645', '599', '502', '463', '483', '475', '526', '496', '619', '418', '895', '498', '727', '1018', '756', '763', '600', '668', '816', '490', '721', '644', '642', '347', '638', '506', '605', '578', '528', '560', '626', '649', '485', '257', '486', '649', '919', '702', '874', '614', '614', '469', '699', '430', '553', '469', '496', '934', '518', '597', '696', '602', '564', '509', '670', '775', '611', '874', '794', '613', '478', '657', '679', '644', '557', '567', '490', '685', '662', '511', '618', '606', '692', '308', '657', '583', '675', '736', '766', '811', '1042', '842', '547', '402', '1032', '598', '690', '643', '515', '621', '490', '550', '530', '500', '602', '679', '577', '573', '592', '644', '869', '811', '811', '766', '1042', '728', '527', '636', '663', '710', '297', '564', '772', '720', '687', '637', '491', '1041', '543', '518', '998', '342', '196', '702', '976', '702', '914', '891', '658', '636', '708', '1028', '743', '837', '517', '730', '607', '529', '568', '461', '598', '654', '726', '887', '356', '1042', '702', '530', '735', '691', '539', '657', '595', '509', '660', '628', '588', '631', '359', '442', '677', '619', '774', '668', '598', '623', '595', '825', '356', '725', '841', '517', '566', '516', '524', '925', '545', '665', '537', '425', '505', '559', '484', '520', '572', '663', '758', '920', '884', '818', '748', '171', '595', '464', '441', '622', '733', '543', '591', '582', '364', '562', '522', '566', '674', '633', '374', '542', '942', '876', '1006', '844', '716', '468', '555', '589', '698', '419', '525', '614', '436', '613', '691', '650', '594', '603', '596', '240', '839', '942', '702', '1023', '935', '938', '567', '790', '607', '758', '617', '577', '619', '620', '951', '752', '660', '493', '664', '545', '643', '613', '427', '999', '1024', '869', '614', '976', '869', '711', '891', '664', '783', '756', '793', '621', '833', '810', '729', '607', '655', '662', '930', '747', '674', '600', '544', '775', '695', '711', '542', '702', '944', '845', '652', '915', '710', '703', '884', '769', '701', '746', '765', '771', '751', '659', '674', '730', '702', '732', '1042', '869', '862', '1042', '942', '614', '570', '639', '685', '614', '599', '428', '635', '762', '632', '575', '810', '654', '659', '758', '538', '640', '600', '580', '914', '881', '811', '1031', '807', '614', '886', '626', '642', '668', '742', '739', '721', '502', '606', '644', '812', '582', '671', '715', '640', '653', '942', '784', '784', '631', '702', '817', '654', '760', '617', '514', '683', '667', '542', '730', '573', '681', '594', '609', '502', '599', '865', '931', '838', '675', '804', '627', '646', '757', '689', '736', '996', '761', '710', '595', '560', '657', '664', '705', '646', '671', '668', '666', '702', '708', '645', '786', '647', '781']\n"
     ]
    }
   ],
   "source": [
    "sample = [753, 703, 500, 1028, 554, 1041, 603, 676, 645, 599, 502, 463, 483, 475, 526, 496, 619, 418, 895, 498, 727, 1018, 756, 763, 600, 668, 816, 490, 721, 644, 642, 347, 638, 506, 605, 578, 528, 560, 626, 649, 485, 257, 486, 649, 919, 702, 874, 614, 614, 469, 699, 430, 553, 469, 496, 934, 518, 597, 696, 602, 564, 509, 670, 775, 611, 874, 794, 613, 478, 657, 679, 644, 557, 567, 490, 685, 662, 511, 618, 606, 692, 308, 657, 583, 675, 736, 766, 811, 1042, 842, 547, 402, 1032, 598, 690, 643, 515, 621, 490, 550, 530, 500, 602, 679, 577, 573, 592, 644, 869, 811, 811, 766, 1042, 728, 527, 636, 663, 710, 297, 564, 772, 720, 687, 637, 491, 1041, 543, 518, 998, 342, 196, 702, 976, 702, 914, 891, 658, 636, 708, 1028, 743, 837, 517, 730, 607, 529, 568, 461, 598, 654, 726, 887, 356, 1042, 702, 530, 735, 691, 539, 657, 595, 509, 660, 628, 588, 631, 359, 442, 677, 619, 774, 668, 598, 623, 595, 825, 356, 725, 841, 517, 566, 516, 524, 925, 545, 665, 537, 425, 505, 559, 484, 520, 572, 663, 758, 920, 884, 818, 748, 171, 595, 464, 441, 622, 733, 543, 591, 582, 364, 562, 522, 566, 674, 633, 374, 542, 942, 876, 1006, 844, 716, 468, 555, 589, 698, 419, 525, 614, 436, 613, 691, 650, 594, 603, 596, 240, 839, 942, 702, 1023, 935, 938, 567, 790, 607, 758, 617, 577, 619, 620, 951, 752, 660, 493, 664, 545, 643, 613, 427, 999, 1024, 869, 614, 976, 869, 711, 891, 664, 783, 756, 793, 621, 833, 810, 729, 607, 655, 662, 930, 747, 674, 600, 544, 775, 695, 711, 542, 702, 944, 845, 652, 915, 710, 703, 884, 769, 701, 746, 765, 771, 751, 659, 674, 730, 702, 732, 1042, 869, 862, 1042, 942, 614, 570, 639, 685, 614, 599, 428, 635, 762, 632, 575, 810, 654, 659, 758, 538, 640, 600, 580, 914, 881, 811, 1031, 807, 614, 886, 626, 642, 668, 742, 739, 721, 502, 606, 644, 812, 582, 671, 715, 640, 653, 942, 784, 784, 631, 702, 817, 654, 760, 617, 514, 683, 667, 542, 730, 573, 681, 594, 609, 502, 599, 865, 931, 838, 675, 804, 627, 646, 757, 689, 736, 996, 761, 710, 595, 560, 657, 664, 705, 646, 671, 668, 666, 702, 708, 645, 786, 647, 781]\n",
    "sample_str = [str(i) for i in sample]\n",
    "print(sample_str)"
   ]
  },
  {
   "cell_type": "markdown",
   "id": "2a894105-3ef6-41c4-a2c8-683a7d8b9d83",
   "metadata": {},
   "source": [
    "### 방향 - federation, mixture of agents, supervised multi-agents\n",
    "\n",
    "- ref: https://github.com/langchain-ai/langgraph/blob/main/docs/docs/tutorials/multi_agent/agent_supervisor.ipynb"
   ]
  },
  {
   "cell_type": "markdown",
   "id": "1cc29388-930c-44cf-a978-8fb02db9b478",
   "metadata": {},
   "source": [
    "#### 1. tool 정의\n",
    "\n",
    "1. ts2img\n",
    "2. math_tools(llm_compiler 활용)\n",
    "3. etc.."
   ]
  },
  {
   "cell_type": "code",
   "execution_count": 14,
   "id": "250ffd4b-d93d-488f-8eab-068bdc417a0f",
   "metadata": {},
   "outputs": [],
   "source": [
    "from langchain_core.tools import tool\n",
    "\n",
    "@tool\n",
    "def ts2img(data: List[float], title: str = \"Time Series Plot\") -> str:\n",
    "    \"\"\"\n",
    "    Generates a line plot from a list of numbers and saves it as a local PNG image.\n",
    "\n",
    "    Args:\n",
    "        data (List[float]): A list of numerical time series data to plot.\n",
    "        title (str, optional): The title for the plot. Defaults to \"Time Series Plot\".\n",
    "\n",
    "    Returns:\n",
    "        str: A JSON string with status, message, and image path information.\n",
    "    \"\"\"\n",
    "    try:\n",
    "        if not data:\n",
    "            raise ValueError(\"Input data list is empty\")\n",
    "        \n",
    "        data_np = np.array(data)\n",
    "        fig, ax = plt.subplots(figsize=(10, 4))\n",
    "        ax.plot(data_np, linewidth=1.5)\n",
    "        ax.set_title(title, fontsize=14)\n",
    "        ax.set_xlabel(\"Time Index\", fontsize=10)\n",
    "        ax.set_ylabel(\"Value\", fontsize=10)\n",
    "        ax.grid(True, linestyle='--', alpha=0.6)\n",
    "        \n",
    "        # Create directory for images if it doesn't exist\n",
    "        timestamp = datetime.now().strftime(\"%Y%m%d_%H%M%S_%f\")\n",
    "        img_dir = Path(__file__).resolve().parent.parent / \"temp_images\"\n",
    "        img_dir.mkdir(parents=True, exist_ok=True)\n",
    "        save_path = img_dir / f\"timeseries_{timestamp}.png\"\n",
    "        \n",
    "        plt.savefig(save_path, dpi=100, bbox_inches='tight')\n",
    "        plt.close(fig)\n",
    "        \n",
    "        print(f\"Image saved to {save_path}\")\n",
    "        return json.dumps({\n",
    "            \"status\": \"success\", \n",
    "            \"message\": f\"Image generated: {save_path.name}\", \n",
    "            \"image_path\": str(save_path)\n",
    "        })\n",
    "    \n",
    "    except Exception as e:\n",
    "        error_message = f\"Error generating image: {e}\"\n",
    "        print(error_message)\n",
    "        return json.dumps({\"status\": \"error\", \"message\": error_message})"
   ]
  },
  {
   "cell_type": "code",
   "execution_count": null,
   "id": "a113abcc-9295-40a0-bcdc-124ce777302b",
   "metadata": {},
   "outputs": [],
   "source": [
    "from study.math_tools import get_math_tool\n",
    "\n",
    "calculate = get_math_tool(ChatVertexAI(model=MODEL_NAME_G))"
   ]
  },
  {
   "cell_type": "code",
   "execution_count": null,
   "id": "84c51235-ad25-4ba0-ab1d-1dea182c6a6b",
   "metadata": {},
   "outputs": [],
   "source": [
    "calculate.invoke(\n",
    "    {\n",
    "        \"problem\": \"What's the temp of sf + 5?\",\n",
    "        \"context\": [\"Thet empreature of sf is 32 degrees\"],\n",
    "    }\n",
    ")"
   ]
  },
  {
   "cell_type": "code",
   "execution_count": null,
   "id": "0ab935d4-fbcd-49c8-8704-c42b345ecd6b",
   "metadata": {},
   "outputs": [],
   "source": []
  },
  {
   "cell_type": "code",
   "execution_count": null,
   "id": "8ab5e480-f244-4660-999c-a152b9e606b3",
   "metadata": {},
   "outputs": [],
   "source": []
  },
  {
   "cell_type": "code",
   "execution_count": null,
   "id": "dd918972-339d-4fd4-a932-75229958bb24",
   "metadata": {},
   "outputs": [],
   "source": []
  },
  {
   "cell_type": "code",
   "execution_count": null,
   "id": "0c363d60-8239-48e7-9e5d-188c61ae24fe",
   "metadata": {},
   "outputs": [],
   "source": []
  },
  {
   "cell_type": "code",
   "execution_count": null,
   "id": "661dfa5a-1936-4f59-88ad-13891f19f1d7",
   "metadata": {},
   "outputs": [],
   "source": []
  },
  {
   "cell_type": "code",
   "execution_count": null,
   "id": "0ec8ce95-8f03-42f1-95b1-ee1472a3d322",
   "metadata": {},
   "outputs": [],
   "source": []
  },
  {
   "cell_type": "code",
   "execution_count": null,
   "id": "c56b2a9c-c568-4bbe-a277-a9b78c6b358c",
   "metadata": {},
   "outputs": [],
   "source": []
  },
  {
   "cell_type": "code",
   "execution_count": null,
   "id": "465fbde7-e70a-49d2-8a8e-2d7608399dc9",
   "metadata": {},
   "outputs": [],
   "source": []
  },
  {
   "cell_type": "code",
   "execution_count": null,
   "id": "c7deb40b-097e-4a8c-a220-d9329f042af8",
   "metadata": {},
   "outputs": [],
   "source": []
  },
  {
   "cell_type": "code",
   "execution_count": null,
   "id": "f749c676-bbd5-4512-ba57-75305afb57a6",
   "metadata": {},
   "outputs": [],
   "source": []
  },
  {
   "cell_type": "code",
   "execution_count": null,
   "id": "6bed63b4-2dd9-43bf-83b6-d8f95965e2c6",
   "metadata": {},
   "outputs": [],
   "source": []
  },
  {
   "cell_type": "code",
   "execution_count": null,
   "id": "4eda70f3-7453-4643-bf33-3ef31c7bf5ed",
   "metadata": {},
   "outputs": [],
   "source": []
  },
  {
   "cell_type": "code",
   "execution_count": null,
   "id": "d92494df-655c-46fc-9244-8fc4efbc79a8",
   "metadata": {},
   "outputs": [],
   "source": []
  },
  {
   "cell_type": "code",
   "execution_count": null,
   "id": "273291c4-ad40-4bef-bdc8-bd5d259371a0",
   "metadata": {},
   "outputs": [],
   "source": []
  },
  {
   "cell_type": "code",
   "execution_count": null,
   "id": "c36bdd50-d474-4540-b670-f0ff26aa1e10",
   "metadata": {},
   "outputs": [],
   "source": []
  },
  {
   "cell_type": "code",
   "execution_count": null,
   "id": "c8dd857c-e418-4332-93b9-7ec0b26f0723",
   "metadata": {},
   "outputs": [],
   "source": []
  },
  {
   "cell_type": "code",
   "execution_count": null,
   "id": "ccaefa64-56b0-4b51-93e8-2cc30b7d1e63",
   "metadata": {},
   "outputs": [],
   "source": []
  },
  {
   "cell_type": "code",
   "execution_count": null,
   "id": "dbec8314-7508-45bd-9217-eac4f45dcd5b",
   "metadata": {},
   "outputs": [],
   "source": []
  },
  {
   "cell_type": "code",
   "execution_count": null,
   "id": "8f3bdb48-b94a-4092-95ce-6f324102563c",
   "metadata": {},
   "outputs": [],
   "source": []
  },
  {
   "cell_type": "code",
   "execution_count": null,
   "id": "6d2c18a1-9ba9-46c3-84d3-81e8f723b614",
   "metadata": {},
   "outputs": [],
   "source": []
  },
  {
   "cell_type": "code",
   "execution_count": null,
   "id": "f108bda8-2715-4b2c-aff4-6e886853a30a",
   "metadata": {},
   "outputs": [],
   "source": []
  }
 ],
 "metadata": {
  "kernelspec": {
   "display_name": "tsad",
   "language": "python",
   "name": "python3"
  },
  "language_info": {
   "codemirror_mode": {
    "name": "ipython",
    "version": 3
   },
   "file_extension": ".py",
   "mimetype": "text/x-python",
   "name": "python",
   "nbconvert_exporter": "python",
   "pygments_lexer": "ipython3",
   "version": "3.11.11"
  }
 },
 "nbformat": 4,
 "nbformat_minor": 5
}
